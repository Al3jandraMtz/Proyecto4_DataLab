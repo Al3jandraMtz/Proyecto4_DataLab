{
  "nbformat": 4,
  "nbformat_minor": 0,
  "metadata": {
    "colab": {
      "provenance": [],
      "authorship_tag": "ABX9TyOzLEODUgkMwguowlrU992/",
      "include_colab_link": true
    },
    "kernelspec": {
      "name": "python3",
      "display_name": "Python 3"
    },
    "language_info": {
      "name": "python"
    }
  },
  "cells": [
    {
      "cell_type": "markdown",
      "metadata": {
        "id": "view-in-github",
        "colab_type": "text"
      },
      "source": [
        "<a href=\"https://colab.research.google.com/github/Al3jandraMtz/Proyecto4_DataLab/blob/main/P4_Varios.ipynb\" target=\"_parent\"><img src=\"https://colab.research.google.com/assets/colab-badge.svg\" alt=\"Open In Colab\"/></a>"
      ]
    },
    {
      "cell_type": "code",
      "source": [
        "import pandas as pd\n",
        "\n",
        "# Cargar el archivo CSV\n",
        "df = pd.read_csv('/content/Data-Set-Sentimiento1.csv')\n",
        "\n",
        "# Mostrar las primeras filas del DataFrame para verificar los nombres de las columnas\n",
        "print(df.head())\n",
        "print(df.columns)\n"
      ],
      "metadata": {
        "colab": {
          "base_uri": "https://localhost:8080/"
        },
        "id": "NUVAQefuef5S",
        "outputId": "be1ce410-b84c-4726-ee30-479e49181bf3",
        "collapsed": true
      },
      "execution_count": 6,
      "outputs": [
        {
          "output_type": "stream",
          "name": "stdout",
          "text": [
            "   product_id                                       product_name  \\\n",
            "0  B08XLR6DSB  akiara - Makes life easy Electric Handy Sewing...   \n",
            "1  B0978V2CP6  Cubetek 3 in 1 LCD Display V5.0 Bluetooth Tran...   \n",
            "2  B07WKBD37W  ESnipe Mart Worldwide Travel Adapter with Buil...   \n",
            "3  B0B2RBP83P  Lenovo IdeaPad 3 11th Gen Intel Core i3 15.6\" ...   \n",
            "4  B0BLV1GNLN  WZATCO Pixel | Portable LED Projector | Native...   \n",
            "\n",
            "              category_1              category_2                  category_3  \\\n",
            "0           Home&Kitchen  Kitchen&HomeAppliances  SewingMachines&Accessories   \n",
            "1            Electronics    HomeTheater,TV&Video      AVReceivers&Amplifiers   \n",
            "2        HomeImprovement              Electrical      Adapters&Multi-Outlets   \n",
            "3  Computers&Accessories                 Laptops          TraditionalLaptops   \n",
            "4            Electronics    HomeTheater,TV&Video                  Projectors   \n",
            "\n",
            "                  category_4 discounted_price  actual_price  \\\n",
            "0  Sewing&EmbroideryMachines              721        1499.0   \n",
            "1                        NaN            1,990        3100.0   \n",
            "2                        NaN              425         999.0   \n",
            "3                        NaN           37,247       59890.0   \n",
            "4                        NaN            6,490        9990.0   \n",
            "\n",
            "   discount_percentage                                      about_product  \\\n",
            "0                 0.52  Mini hand Sewing Machine Stapler style is quic...   \n",
            "1                 0.36  IN V BLUETOOTH AUDIO ADAPTER It has modes TX R...   \n",
            "2                 0.57  SLOW CHARGING Input W Output W A MAX Tear Off ...   \n",
            "3                 0.38  Processor th Gen Intel Core iG Speed GHz Base ...   \n",
            "4                 0.35  Small Size but Powerful Effects upgraded Pixel...   \n",
            "\n",
            "   ... user_id_count       review_id  \\\n",
            "0  ...             8   RYO77QIQ3J77O   \n",
            "1  ...             8  R1OK31HXJ4T85Y   \n",
            "2  ...             8  R186EFJU37UPS6   \n",
            "3  ...             8  R2WGS6Q7F9F4Y5   \n",
            "4  ...             8  R37T34KL73SH6C   \n",
            "\n",
            "                                        review_title  \\\n",
            "0  easy to keep and usegood for quick fixesaverag...   \n",
            "1  gooddoes the job works with two devicespositiv...   \n",
            "2  material not worthstable for useoverall produc...   \n",
            "3  value for money laptop for normal usageworks w...   \n",
            "4  beat projector for good pricevalue for moneyex...   \n",
            "\n",
            "                              cleaned_review_content rating_count  \\\n",
            "0  its good product you can face challenge in sta...         2449   \n",
            "1  atlast i connected successfully working good b...          897   \n",
            "2  i can say costly although it can do the jobi l...         2581   \n",
            "3  if you are looking for a decent laptop and res...          323   \n",
            "4  good projector for this price rangenice pictur...           27   \n",
            "\n",
            "  adjusted_rating                                   tokenized_review  \\\n",
            "0             3.1  ['its', 'good', 'product', 'you', 'can', 'face...   \n",
            "1             4.0  ['atlast', 'i', 'connected', 'successfully', '...   \n",
            "2             4.0  ['i', 'can', 'say', 'costly', 'although', 'it'...   \n",
            "3             4.0  ['if', 'you', 'are', 'looking', 'for', 'a', 'd...   \n",
            "4             4.0  ['good', 'projector', 'for', 'this', 'price', ...   \n",
            "\n",
            "                                     filtered_tokens  \\\n",
            "0  ['its', 'good', 'product', 'you', 'can', 'face...   \n",
            "1  ['atlast', 'i', 'connected', 'successfully', '...   \n",
            "2  ['i', 'can', 'say', 'costly', 'although', 'it'...   \n",
            "3  ['if', 'you', 'are', 'looking', 'for', 'decent...   \n",
            "4  ['good', 'projector', 'for', 'this', 'price', ...   \n",
            "\n",
            "                                      stemmed_tokens sentiment  \n",
            "0  ['its', 'good', 'product', 'you', 'can', 'fac'...  0.345417  \n",
            "1  ['atlast', 'i', 'connect', 'successfully', 'wo...  0.086984  \n",
            "2  ['i', 'can', 'say', 'costly', 'although', 'it'...  0.577500  \n",
            "3  ['if', 'you', 'are', 'looking', 'for', 'decent...  0.252041  \n",
            "4  ['good', 'projector', 'for', 'this', 'pric', '...  0.261765  \n",
            "\n",
            "[5 rows x 22 columns]\n",
            "Index(['product_id', 'product_name', 'category_1', 'category_2', 'category_3',\n",
            "       'category_4', 'discounted_price', 'actual_price', 'discount_percentage',\n",
            "       'about_product', 'user_id', 'user_name', 'user_id_count', 'review_id',\n",
            "       'review_title', 'cleaned_review_content', 'rating_count',\n",
            "       'adjusted_rating', 'tokenized_review', 'filtered_tokens',\n",
            "       'stemmed_tokens', 'sentiment'],\n",
            "      dtype='object')\n"
          ]
        }
      ]
    },
    {
      "cell_type": "code",
      "execution_count": 7,
      "metadata": {
        "colab": {
          "base_uri": "https://localhost:8080/"
        },
        "id": "x0xszbDKaakc",
        "outputId": "4bed9103-d0f8-4d36-8453-40d765a3d5e3"
      },
      "outputs": [
        {
          "output_type": "stream",
          "name": "stdout",
          "text": [
            "Archivo CSV guardado con éxito.\n"
          ]
        }
      ],
      "source": [
        "#Segmentación de los sentimientos\n",
        "import pandas as pd\n",
        "\n",
        "# Cargar el archivo CSV\n",
        "df = pd.read_csv('/content/Data-Set-Sentimiento1.csv')\n",
        "\n",
        "# Segmentar el sentimiento en positivo, neutro y negativo\n",
        "def segment_sentiment(score):\n",
        "    if score > 0.1:\n",
        "        return 'positivo'\n",
        "    elif score < -0.1:\n",
        "        return 'negativo'\n",
        "    else:\n",
        "        return 'neutro'\n",
        "\n",
        "# Aplicar la función para crear una nueva columna de 'sentiment_category'\n",
        "df['sentiment_category'] = df['sentiment'].apply(segment_sentiment)\n",
        "\n",
        "# Guardar el DataFrame en un archivo CSV\n",
        "df.to_csv('/content/sentiment_segmented.csv', index=False)\n",
        "\n",
        "print(\"Archivo CSV guardado con éxito.\")\n"
      ]
    },
    {
      "cell_type": "code",
      "source": [
        "\n",
        "#Analisis de Sentimientos acomodo de palabras positivas/negativas\n",
        "import pandas as pd\n",
        "import nltk\n",
        "from nltk.sentiment.vader import SentimentIntensityAnalyzer\n",
        "from collections import Counter\n",
        "\n",
        "# Descargar el recurso vader_lexicon\n",
        "nltk.download('vader_lexicon')\n",
        "\n",
        "# Inicializar el analizador de sentimiento\n",
        "sia = SentimentIntensityAnalyzer()\n",
        "\n",
        "# Cargar el DataFrame\n",
        "df = pd.read_csv('/content/Data-Set-Sentimiento1.csv')\n",
        "\n",
        "# Función para analizar el sentimiento y extraer palabras\n",
        "def extract_sentiment_words(text):\n",
        "    sentiment_words = {'positive': [], 'negative': []}\n",
        "    # Analizar el sentimiento de cada palabra en el texto\n",
        "    for word in text.split():\n",
        "        sentiment = sia.polarity_scores(word)\n",
        "        if sentiment['compound'] >= 0.05:  # Umbral para positivo\n",
        "            sentiment_words['positive'].append(word)\n",
        "        elif sentiment['compound'] <= -0.05:  # Umbral para negativo\n",
        "            sentiment_words['negative'].append(word)\n",
        "    return sentiment_words\n",
        "\n",
        "# Aplicar la función a la columna cleaned_review_content\n",
        "df['sentiment_words'] = df['cleaned_review_content'].apply(extract_sentiment_words)\n",
        "\n",
        "# Contar las palabras más comunes en positivas y negativas\n",
        "positive_words = Counter([word for words in df['sentiment_words'].apply(lambda x: x['positive']) for word in words])\n",
        "negative_words = Counter([word for words in df['sentiment_words'].apply(lambda x: x['negative']) for word in words])\n",
        "\n",
        "# Crear DataFrame para las Top Positive Words\n",
        "df_positive = pd.DataFrame(positive_words.most_common(20), columns=['Word', 'Count'])\n",
        "df_positive['Sentiment'] = 'Positive'\n",
        "\n",
        "# Crear DataFrame para las Top Negative Words\n",
        "df_negative = pd.DataFrame(negative_words.most_common(20), columns=['Word', 'Count'])\n",
        "df_negative['Sentiment'] = 'Negative'\n",
        "\n",
        "# Combinar ambos DataFrames\n",
        "df_top_words = pd.concat([df_positive, df_negative])\n",
        "\n",
        "# Guardar los resultados en un nuevo CSV en el directorio actual\n",
        "df_top_words.to_csv('top_sentiment_words.csv', index=False)\n",
        "\n",
        "# Mostrar el DataFrame resultante\n",
        "print(df_top_words)"
      ],
      "metadata": {
        "colab": {
          "base_uri": "https://localhost:8080/"
        },
        "id": "C607uB2_lnev",
        "outputId": "c8972464-c6a9-4fa7-e074-cde104afc40d"
      },
      "execution_count": 8,
      "outputs": [
        {
          "output_type": "stream",
          "name": "stderr",
          "text": [
            "[nltk_data] Downloading package vader_lexicon to /root/nltk_data...\n"
          ]
        },
        {
          "output_type": "stream",
          "name": "stdout",
          "text": [
            "            Word  Count Sentiment\n",
            "0           good   4179  Positive\n",
            "1           like   1065  Positive\n",
            "2           easy    743  Positive\n",
            "3           well    653  Positive\n",
            "4         better    548  Positive\n",
            "5          great    533  Positive\n",
            "6           best    521  Positive\n",
            "7           nice    435  Positive\n",
            "8         amazon    405  Positive\n",
            "9           fine    399  Positive\n",
            "10         value    329  Positive\n",
            "11         worth    327  Positive\n",
            "12          want    263  Positive\n",
            "13            ok    232  Positive\n",
            "14      original    228  Positive\n",
            "15     recommend    215  Positive\n",
            "16        easily    208  Positive\n",
            "17       support    206  Positive\n",
            "18        useful    187  Positive\n",
            "19         happy    187  Positive\n",
            "0             no    987  Negative\n",
            "1        problem    290  Negative\n",
            "2            low    255  Negative\n",
            "3            bad    197  Negative\n",
            "4           hard    137  Negative\n",
            "5        stopped     93  Negative\n",
            "6           poor     87  Negative\n",
            "7      difficult     80  Negative\n",
            "8            lag     76  Negative\n",
            "9        damaged     68  Negative\n",
            "10         lower     66  Negative\n",
            "11       charges     66  Negative\n",
            "12       charged     63  Negative\n",
            "13  disappointed     61  Negative\n",
            "14       missing     58  Negative\n",
            "15         loose     58  Negative\n",
            "16          fire     56  Negative\n",
            "17     defective     56  Negative\n",
            "18           cut     55  Negative\n",
            "19        damage     51  Negative\n"
          ]
        }
      ]
    },
    {
      "cell_type": "code",
      "source": [
        "import pandas as pd\n",
        "\n",
        "# Cargar el archivo CSV con tus datos\n",
        "df = pd.read_csv('/content/Data-Set-Sentimiento1.csv')\n",
        "\n",
        "# Definir qué es una calificación baja (por ejemplo, calificación < 3)\n",
        "low_rating_threshold = 3\n",
        "\n",
        "# Crear una columna 'is_low_rating' que indica si la calificación es baja\n",
        "df['is_low_rating'] = df['adjusted_rating'] < low_rating_threshold\n",
        "\n",
        "# Agrupar por categoría y nivel de descuento, y calcular el riesgo relativo\n",
        "# El riesgo relativo se define como la proporción de calificaciones bajas en cada grupo\n",
        "df_grouped = df.groupby(['category_1', 'discount_percentage']).apply(\n",
        "    lambda x: x['is_low_rating'].mean()\n",
        ").reset_index(name='low_rating_risk')\n",
        "\n",
        "# Guardar el DataFrame en un archivo CSV\n",
        "df_grouped.to_csv('/content/risk_relative_discount_category.csv', index=False)\n",
        "\n",
        "print(\"Archivo CSV guardado con éxito para su uso en Tableau.\")\n"
      ],
      "metadata": {
        "colab": {
          "base_uri": "https://localhost:8080/"
        },
        "id": "zqPaatA0pvZx",
        "outputId": "061d8a36-3e28-4ba3-9fca-a63c2056d6b2"
      },
      "execution_count": 9,
      "outputs": [
        {
          "output_type": "stream",
          "name": "stdout",
          "text": [
            "Archivo CSV guardado con éxito para su uso en Tableau.\n"
          ]
        }
      ]
    },
    {
      "cell_type": "code",
      "source": [
        "import pandas as pd\n",
        "\n",
        "# Cargar el archivo CSV con tus datos\n",
        "df = pd.read_csv('/content/Data-Set-Sentimiento1.csv')\n",
        "\n",
        "# Palabras clave relacionadas con durabilidad\n",
        "durability_keywords = ['durabilidad', 'duradero', 'resistente', 'longevidad', 'durable']\n",
        "\n",
        "# Crear una columna 'mentions_durability' para identificar menciones de durabilidad en las reseñas\n",
        "df['mentions_durability'] = df['cleaned_review_content'].apply(\n",
        "    lambda review: any(keyword in review.lower() for keyword in durability_keywords)\n",
        ")\n",
        "\n",
        "# Calcular la satisfacción promedio (por ejemplo, 'adjusted_rating') en función de menciones de durabilidad\n",
        "durability_impact = df.groupby('mentions_durability')['adjusted_rating'].mean().reset_index()\n",
        "\n",
        "# Renombrar las columnas para claridad\n",
        "durability_impact.columns = ['mentions_durability', 'average_satisfaction']\n",
        "\n",
        "# Guardar el DataFrame en un archivo CSV\n",
        "durability_impact.to_csv('/content/durability_impact_satisfaction.csv', index=False)\n",
        "\n",
        "print(\"Archivo CSV guardado con éxito para su uso en herramientas de visualización.\")\n"
      ],
      "metadata": {
        "colab": {
          "base_uri": "https://localhost:8080/"
        },
        "id": "-quOdC4CLUxh",
        "outputId": "106711ad-a79f-4fd6-ac89-f6adfd8d3219"
      },
      "execution_count": 10,
      "outputs": [
        {
          "output_type": "stream",
          "name": "stdout",
          "text": [
            "Archivo CSV guardado con éxito para su uso en herramientas de visualización.\n"
          ]
        }
      ]
    },
    {
      "cell_type": "code",
      "source": [
        "import pandas as pd\n",
        "\n",
        "# Cargar el archivo CSV con tus datos\n",
        "df = pd.read_csv('/content/Data-Set-Sentimiento1.csv')\n",
        "\n",
        "# Verificar las categorías únicas en 'category_1'\n",
        "print(\"Categorías únicas en 'category_1':\", df['category_1'].unique())\n",
        "\n",
        "# Asegurarnos de que las columnas necesarias están presentes\n",
        "print(\"Columnas disponibles en el DataFrame:\", df.columns)\n",
        "\n",
        "# Filtrar las categorías \"Toys & Games\" y \"Home & Kitchen\"\n",
        "categories_of_interest = ['Toys & Games', 'Home & Kitchen']\n",
        "df_filtered = df[df['category_1'].isin(categories_of_interest)]\n",
        "\n",
        "# Verificar el tamaño del DataFrame filtrado\n",
        "print(f\"Tamaño del DataFrame después del filtrado: {df_filtered.shape}\")\n",
        "\n",
        "if df_filtered.empty:\n",
        "    print(\"No se encontraron datos para las categorías especificadas.\")\n",
        "else:\n",
        "    # Calcular la calificación promedio por categoría\n",
        "    average_rating_per_category = df_filtered.groupby('category_1')['adjusted_rating'].mean().reset_index()\n",
        "\n",
        "    # Mostrar las calificaciones promedio calculadas\n",
        "    print(\"Calificación promedio por categoría:\")\n",
        "    print(average_rating_per_category)\n",
        "\n",
        "    # Calcular la tendencia de calificaciones promedio por categoría\n",
        "    trend_data = df_filtered.groupby(['category_1']).agg(\n",
        "        average_rating=('adjusted_rating', 'mean')).reset_index()\n",
        "\n",
        "    # Ordenar los datos por categoría\n",
        "    trend_data = trend_data.sort_values(by=['category_1'])\n",
        "\n",
        "    # Guardar el DataFrame en un archivo CSV para su uso en herramientas de visualización como Tableau\n",
        "    trend_data.to_csv('/content/ratings_trend_by_category.csv', index=False)\n",
        "\n",
        "    print(\"Archivo CSV guardado con éxito para su uso en herramientas de visualización.\")\n"
      ],
      "metadata": {
        "colab": {
          "base_uri": "https://localhost:8080/"
        },
        "id": "Wx3KkqufX-Vx",
        "outputId": "8e8ac391-214e-4265-cd53-b94503d33f23"
      },
      "execution_count": 11,
      "outputs": [
        {
          "output_type": "stream",
          "name": "stdout",
          "text": [
            "Categorías únicas en 'category_1': ['Home&Kitchen' 'Electronics' 'HomeImprovement' 'Computers&Accessories'\n",
            " 'MusicalInstruments' 'Health&PersonalCare' 'Car&Motorbike' 'Toys&Games'\n",
            " 'OfficeProducts']\n",
            "Columnas disponibles en el DataFrame: Index(['product_id', 'product_name', 'category_1', 'category_2', 'category_3',\n",
            "       'category_4', 'discounted_price', 'actual_price', 'discount_percentage',\n",
            "       'about_product', 'user_id', 'user_name', 'user_id_count', 'review_id',\n",
            "       'review_title', 'cleaned_review_content', 'rating_count',\n",
            "       'adjusted_rating', 'tokenized_review', 'filtered_tokens',\n",
            "       'stemmed_tokens', 'sentiment'],\n",
            "      dtype='object')\n",
            "Tamaño del DataFrame después del filtrado: (0, 22)\n",
            "No se encontraron datos para las categorías especificadas.\n"
          ]
        }
      ]
    },
    {
      "cell_type": "code",
      "source": [
        "#satisfaccion por categoria\n",
        "import pandas as pd\n",
        "\n",
        "# Cargar el archivo CSV con tus datos\n",
        "df = pd.read_csv('/content/Data-Set-Sentimiento1.csv')\n",
        "\n",
        "# Verificar que las columnas necesarias están presentes\n",
        "if 'category_1' not in df.columns or 'adjusted_rating' not in df.columns:\n",
        "    raise ValueError(\"Las columnas 'category_1' y 'adjusted_rating' deben estar presentes en el DataFrame.\")\n",
        "\n",
        "# Calcular la calificación promedio por categoría\n",
        "average_rating_per_category = df.groupby('category_1')['adjusted_rating'].mean().reset_index()\n",
        "\n",
        "# Definir umbrales para alta y baja satisfacción\n",
        "threshold_high = 4.0  # Ajusta este valor según tus criterios\n",
        "threshold_low = 2.5   # Ajusta este valor según tus criterios\n",
        "\n",
        "# Clasificar las categorías según el nivel de satisfacción\n",
        "def classify_satisfaction(rating):\n",
        "    if rating >= threshold_high:\n",
        "        return 'alta satisfacción'\n",
        "    elif rating <= threshold_low:\n",
        "        return 'baja satisfacción'\n",
        "    else:\n",
        "        return 'satisfacción media'\n",
        "\n",
        "average_rating_per_category['satisfaction_level'] = average_rating_per_category['adjusted_rating'].apply(classify_satisfaction)\n",
        "\n",
        "# Mostrar las categorías clasificadas\n",
        "print(\"Categorías clasificadas por nivel de satisfacción:\")\n",
        "print(average_rating_per_category)\n",
        "\n",
        "# Guardar el DataFrame en un archivo CSV para uso futurohttps://www.google.com.mx/\n",
        "average_rating_per_category.to_csv('/content/category_satisfaction_levels.csv', index=False)\n",
        "\n",
        "print(\"Archivo CSV guardado con éxito para su uso en intervenciones.\")\n"
      ],
      "metadata": {
        "colab": {
          "base_uri": "https://localhost:8080/"
        },
        "id": "UqQaQ6tMcjKA",
        "outputId": "4914a437-aa60-4bdd-f922-299799a0d502"
      },
      "execution_count": 12,
      "outputs": [
        {
          "output_type": "stream",
          "name": "stdout",
          "text": [
            "Categorías clasificadas por nivel de satisfacción:\n",
            "              category_1  adjusted_rating  satisfaction_level\n",
            "0          Car&Motorbike         3.800000  satisfacción media\n",
            "1  Computers&Accessories         4.153867   alta satisfacción\n",
            "2            Electronics         4.077755   alta satisfacción\n",
            "3    Health&PersonalCare         4.000000   alta satisfacción\n",
            "4           Home&Kitchen         4.040402   alta satisfacción\n",
            "5        HomeImprovement         4.250000   alta satisfacción\n",
            "6     MusicalInstruments         3.900000  satisfacción media\n",
            "7         OfficeProducts         4.309677   alta satisfacción\n",
            "8             Toys&Games         4.300000   alta satisfacción\n",
            "Archivo CSV guardado con éxito para su uso en intervenciones.\n"
          ]
        }
      ]
    }
  ]
}